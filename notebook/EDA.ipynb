{
 "cells": [
  {
   "cell_type": "code",
   "execution_count": 2,
   "id": "ea873d0f",
   "metadata": {},
   "outputs": [],
   "source": [
    "import pandas as pd\n",
    "import numpy as np \n",
    "import matplotlib.pyplot as plt\n",
    "import plotly.express  as px\n",
    "import seaborn as sns\n",
    "from sklearn.preprocessing import StandardScaler,OneHotEncoder"
   ]
  },
  {
   "cell_type": "code",
   "execution_count": 3,
   "id": "5fbafcfa",
   "metadata": {},
   "outputs": [
    {
     "data": {
      "text/html": [
       "<div>\n",
       "<style scoped>\n",
       "    .dataframe tbody tr th:only-of-type {\n",
       "        vertical-align: middle;\n",
       "    }\n",
       "\n",
       "    .dataframe tbody tr th {\n",
       "        vertical-align: top;\n",
       "    }\n",
       "\n",
       "    .dataframe thead th {\n",
       "        text-align: right;\n",
       "    }\n",
       "</style>\n",
       "<table border=\"1\" class=\"dataframe\">\n",
       "  <thead>\n",
       "    <tr style=\"text-align: right;\">\n",
       "      <th></th>\n",
       "      <th>gender</th>\n",
       "      <th>race/ethnicity</th>\n",
       "      <th>parental level of education</th>\n",
       "      <th>lunch</th>\n",
       "      <th>test preparation course</th>\n",
       "      <th>math score</th>\n",
       "      <th>reading score</th>\n",
       "      <th>writing score</th>\n",
       "    </tr>\n",
       "  </thead>\n",
       "  <tbody>\n",
       "    <tr>\n",
       "      <th>0</th>\n",
       "      <td>female</td>\n",
       "      <td>group B</td>\n",
       "      <td>bachelor's degree</td>\n",
       "      <td>standard</td>\n",
       "      <td>none</td>\n",
       "      <td>72</td>\n",
       "      <td>72</td>\n",
       "      <td>74</td>\n",
       "    </tr>\n",
       "    <tr>\n",
       "      <th>1</th>\n",
       "      <td>female</td>\n",
       "      <td>group C</td>\n",
       "      <td>some college</td>\n",
       "      <td>standard</td>\n",
       "      <td>completed</td>\n",
       "      <td>69</td>\n",
       "      <td>90</td>\n",
       "      <td>88</td>\n",
       "    </tr>\n",
       "    <tr>\n",
       "      <th>2</th>\n",
       "      <td>female</td>\n",
       "      <td>group B</td>\n",
       "      <td>master's degree</td>\n",
       "      <td>standard</td>\n",
       "      <td>none</td>\n",
       "      <td>90</td>\n",
       "      <td>95</td>\n",
       "      <td>93</td>\n",
       "    </tr>\n",
       "    <tr>\n",
       "      <th>3</th>\n",
       "      <td>male</td>\n",
       "      <td>group A</td>\n",
       "      <td>associate's degree</td>\n",
       "      <td>free/reduced</td>\n",
       "      <td>none</td>\n",
       "      <td>47</td>\n",
       "      <td>57</td>\n",
       "      <td>44</td>\n",
       "    </tr>\n",
       "    <tr>\n",
       "      <th>4</th>\n",
       "      <td>male</td>\n",
       "      <td>group C</td>\n",
       "      <td>some college</td>\n",
       "      <td>standard</td>\n",
       "      <td>none</td>\n",
       "      <td>76</td>\n",
       "      <td>78</td>\n",
       "      <td>75</td>\n",
       "    </tr>\n",
       "  </tbody>\n",
       "</table>\n",
       "</div>"
      ],
      "text/plain": [
       "   gender race/ethnicity parental level of education         lunch  \\\n",
       "0  female        group B           bachelor's degree      standard   \n",
       "1  female        group C                some college      standard   \n",
       "2  female        group B             master's degree      standard   \n",
       "3    male        group A          associate's degree  free/reduced   \n",
       "4    male        group C                some college      standard   \n",
       "\n",
       "  test preparation course  math score  reading score  writing score  \n",
       "0                    none          72             72             74  \n",
       "1               completed          69             90             88  \n",
       "2                    none          90             95             93  \n",
       "3                    none          47             57             44  \n",
       "4                    none          76             78             75  "
      ]
     },
     "execution_count": 3,
     "metadata": {},
     "output_type": "execute_result"
    }
   ],
   "source": [
    "df = pd.read_csv(r\"E:\\ML Project MK02\\notebook\\data\\StudentsPerformance.csv\")\n",
    "df.head()"
   ]
  },
  {
   "cell_type": "code",
   "execution_count": 4,
   "id": "5ace5cb0",
   "metadata": {},
   "outputs": [
    {
     "name": "stdout",
     "output_type": "stream",
     "text": [
      "<class 'pandas.core.frame.DataFrame'>\n",
      "RangeIndex: 1000 entries, 0 to 999\n",
      "Data columns (total 8 columns):\n",
      " #   Column                       Non-Null Count  Dtype \n",
      "---  ------                       --------------  ----- \n",
      " 0   gender                       1000 non-null   object\n",
      " 1   race/ethnicity               1000 non-null   object\n",
      " 2   parental level of education  1000 non-null   object\n",
      " 3   lunch                        1000 non-null   object\n",
      " 4   test preparation course      1000 non-null   object\n",
      " 5   math score                   1000 non-null   int64 \n",
      " 6   reading score                1000 non-null   int64 \n",
      " 7   writing score                1000 non-null   int64 \n",
      "dtypes: int64(3), object(5)\n",
      "memory usage: 62.6+ KB\n"
     ]
    }
   ],
   "source": [
    "df.info()"
   ]
  },
  {
   "cell_type": "code",
   "execution_count": 5,
   "id": "a4946f42",
   "metadata": {},
   "outputs": [
    {
     "data": {
      "text/plain": [
       "gender                         0\n",
       "race/ethnicity                 0\n",
       "parental level of education    0\n",
       "lunch                          0\n",
       "test preparation course        0\n",
       "math score                     0\n",
       "reading score                  0\n",
       "writing score                  0\n",
       "dtype: int64"
      ]
     },
     "execution_count": 5,
     "metadata": {},
     "output_type": "execute_result"
    }
   ],
   "source": [
    "df.isnull().sum()"
   ]
  },
  {
   "cell_type": "code",
   "execution_count": 6,
   "id": "33fa702d",
   "metadata": {},
   "outputs": [
    {
     "data": {
      "text/html": [
       "<div>\n",
       "<style scoped>\n",
       "    .dataframe tbody tr th:only-of-type {\n",
       "        vertical-align: middle;\n",
       "    }\n",
       "\n",
       "    .dataframe tbody tr th {\n",
       "        vertical-align: top;\n",
       "    }\n",
       "\n",
       "    .dataframe thead th {\n",
       "        text-align: right;\n",
       "    }\n",
       "</style>\n",
       "<table border=\"1\" class=\"dataframe\">\n",
       "  <thead>\n",
       "    <tr style=\"text-align: right;\">\n",
       "      <th></th>\n",
       "      <th>gender</th>\n",
       "      <th>race/ethnicity</th>\n",
       "      <th>parental level of education</th>\n",
       "      <th>lunch</th>\n",
       "      <th>test preparation course</th>\n",
       "      <th>math score</th>\n",
       "      <th>reading score</th>\n",
       "      <th>writing score</th>\n",
       "    </tr>\n",
       "  </thead>\n",
       "  <tbody>\n",
       "    <tr>\n",
       "      <th>0</th>\n",
       "      <td>female</td>\n",
       "      <td>group B</td>\n",
       "      <td>bachelor's degree</td>\n",
       "      <td>standard</td>\n",
       "      <td>none</td>\n",
       "      <td>72</td>\n",
       "      <td>72</td>\n",
       "      <td>74</td>\n",
       "    </tr>\n",
       "    <tr>\n",
       "      <th>1</th>\n",
       "      <td>female</td>\n",
       "      <td>group C</td>\n",
       "      <td>some college</td>\n",
       "      <td>standard</td>\n",
       "      <td>completed</td>\n",
       "      <td>69</td>\n",
       "      <td>90</td>\n",
       "      <td>88</td>\n",
       "    </tr>\n",
       "    <tr>\n",
       "      <th>2</th>\n",
       "      <td>female</td>\n",
       "      <td>group B</td>\n",
       "      <td>master's degree</td>\n",
       "      <td>standard</td>\n",
       "      <td>none</td>\n",
       "      <td>90</td>\n",
       "      <td>95</td>\n",
       "      <td>93</td>\n",
       "    </tr>\n",
       "    <tr>\n",
       "      <th>3</th>\n",
       "      <td>male</td>\n",
       "      <td>group A</td>\n",
       "      <td>associate's degree</td>\n",
       "      <td>free/reduced</td>\n",
       "      <td>none</td>\n",
       "      <td>47</td>\n",
       "      <td>57</td>\n",
       "      <td>44</td>\n",
       "    </tr>\n",
       "    <tr>\n",
       "      <th>4</th>\n",
       "      <td>male</td>\n",
       "      <td>group C</td>\n",
       "      <td>some college</td>\n",
       "      <td>standard</td>\n",
       "      <td>none</td>\n",
       "      <td>76</td>\n",
       "      <td>78</td>\n",
       "      <td>75</td>\n",
       "    </tr>\n",
       "  </tbody>\n",
       "</table>\n",
       "</div>"
      ],
      "text/plain": [
       "   gender race/ethnicity parental level of education         lunch  \\\n",
       "0  female        group B           bachelor's degree      standard   \n",
       "1  female        group C                some college      standard   \n",
       "2  female        group B             master's degree      standard   \n",
       "3    male        group A          associate's degree  free/reduced   \n",
       "4    male        group C                some college      standard   \n",
       "\n",
       "  test preparation course  math score  reading score  writing score  \n",
       "0                    none          72             72             74  \n",
       "1               completed          69             90             88  \n",
       "2                    none          90             95             93  \n",
       "3                    none          47             57             44  \n",
       "4                    none          76             78             75  "
      ]
     },
     "execution_count": 6,
     "metadata": {},
     "output_type": "execute_result"
    }
   ],
   "source": [
    "df.head()"
   ]
  },
  {
   "cell_type": "code",
   "execution_count": 7,
   "id": "6f482d96",
   "metadata": {},
   "outputs": [],
   "source": [
    "df['total_marks']  = pd.DataFrame(df['math score'] + df['writing score'] + df['reading score'])\n",
    "df['average_score'] = df['total_marks'] / 3"
   ]
  },
  {
   "cell_type": "code",
   "execution_count": 8,
   "id": "95166422",
   "metadata": {},
   "outputs": [],
   "source": [
    "maths_top = df[df['math score'] == 100 ]['average_score'].count()\n",
    "reading_top = df[df['reading score'] == 100]['average_score'].count()\n",
    "writing_top = df[df['writing score'] == 100]['average_score'].count()\n",
    "top = df[df['total_marks'] == (3 * 100)] ['average_score'].count()\n",
    "\n",
    "maths_fail = df[df['math score'] < 35] ['average_score'].count()\n",
    "reading_fail = df[df['reading score'] < 35]['average_score'].count()\n",
    "writing_fail = df[df['writing score'] < 35]['average_score'].count()\n",
    "Failed = df[df['total_marks'] < (35 * 3)]['average_score'].count()"
   ]
  },
  {
   "cell_type": "code",
   "execution_count": 9,
   "id": "616a1084",
   "metadata": {},
   "outputs": [
    {
     "name": "stdout",
     "output_type": "stream",
     "text": [
      "Maths Fail :  22\n",
      "Maths Top :  7\n",
      "========================================\n",
      "Reading Fail :  15\n",
      "Reading Top:  17\n",
      "========================================\n",
      "Writing Fail :  17\n",
      "Writing Top:  14\n",
      "========================================\n",
      "Failed :  18\n",
      "Topper :  3\n",
      "========================================\n"
     ]
    }
   ],
   "source": [
    "print(\"Maths Fail : \",maths_fail)\n",
    "print(\"Maths Top : \",maths_top)\n",
    "print(\"=\"*40)\n",
    "print(\"Reading Fail : \",reading_fail)\n",
    "print(\"Reading Top: \",reading_top)\n",
    "print(\"=\"*40)\n",
    "print(\"Writing Fail : \",writing_fail)\n",
    "print(\"Writing Top: \",writing_top)\n",
    "print(\"=\"*40)\n",
    "print(\"Failed : \",Failed)\n",
    "print(\"Topper : \",top)\n",
    "print(\"=\"*40)\n"
   ]
  },
  {
   "cell_type": "code",
   "execution_count": 10,
   "id": "e0ad669c",
   "metadata": {},
   "outputs": [
    {
     "data": {
      "application/vnd.plotly.v1+json": {
       "config": {
        "plotlyServerURL": "https://plot.ly"
       },
       "data": [
        {
         "domain": {
          "x": [
           0,
           1
          ],
          "y": [
           0,
           1
          ]
         },
         "hole": 0.5,
         "hovertemplate": "gender=%{label}<br>total_marks=%{value}<extra></extra>",
         "labels": [
          "female",
          "female",
          "female",
          "male",
          "male",
          "female",
          "female",
          "male",
          "male",
          "female",
          "male",
          "male",
          "female",
          "male",
          "female",
          "female",
          "male",
          "female",
          "male",
          "female",
          "male",
          "female",
          "male",
          "female",
          "male",
          "male",
          "male",
          "female",
          "male",
          "female",
          "female",
          "female",
          "female",
          "male",
          "male",
          "male",
          "female",
          "female",
          "female",
          "male",
          "male",
          "female",
          "female",
          "male",
          "female",
          "male",
          "female",
          "female",
          "female",
          "male",
          "male",
          "male",
          "male",
          "male",
          "female",
          "female",
          "female",
          "male",
          "male",
          "female",
          "male",
          "male",
          "male",
          "female",
          "female",
          "male",
          "male",
          "female",
          "male",
          "female",
          "female",
          "male",
          "female",
          "male",
          "male",
          "male",
          "male",
          "male",
          "female",
          "female",
          "female",
          "male",
          "male",
          "male",
          "male",
          "female",
          "female",
          "female",
          "female",
          "female",
          "female",
          "male",
          "male",
          "male",
          "female",
          "male",
          "male",
          "female",
          "female",
          "female",
          "male",
          "male",
          "female",
          "male",
          "male",
          "female",
          "female",
          "male",
          "female",
          "female",
          "female",
          "male",
          "male",
          "female",
          "female",
          "male",
          "female",
          "female",
          "female",
          "female",
          "female",
          "male",
          "female",
          "male",
          "male",
          "female",
          "male",
          "male",
          "male",
          "female",
          "male",
          "male",
          "male",
          "female",
          "male",
          "male",
          "male",
          "male",
          "female",
          "male",
          "female",
          "female",
          "female",
          "male",
          "male",
          "female",
          "male",
          "male",
          "female",
          "male",
          "male",
          "male",
          "female",
          "male",
          "male",
          "female",
          "female",
          "male",
          "female",
          "male",
          "male",
          "female",
          "male",
          "male",
          "female",
          "female",
          "male",
          "female",
          "female",
          "female",
          "male",
          "male",
          "female",
          "female",
          "female",
          "female",
          "female",
          "female",
          "female",
          "female",
          "male",
          "female",
          "female",
          "female",
          "male",
          "male",
          "male",
          "male",
          "male",
          "female",
          "female",
          "male",
          "female",
          "male",
          "female",
          "male",
          "male",
          "male",
          "female",
          "female",
          "female",
          "female",
          "male",
          "female",
          "male",
          "male",
          "male",
          "male",
          "female",
          "female",
          "male",
          "male",
          "female",
          "male",
          "male",
          "male",
          "female",
          "female",
          "male",
          "male",
          "female",
          "male",
          "female",
          "male",
          "female",
          "female",
          "female",
          "male",
          "male",
          "female",
          "male",
          "male",
          "female",
          "male",
          "male",
          "male",
          "male",
          "female",
          "male",
          "male",
          "male",
          "female",
          "female",
          "male",
          "male",
          "male",
          "male",
          "female",
          "female",
          "male",
          "male",
          "female",
          "female",
          "male",
          "male",
          "female",
          "female",
          "male",
          "female",
          "female",
          "female",
          "male",
          "female",
          "female",
          "male",
          "male",
          "female",
          "female",
          "female",
          "female",
          "male",
          "male",
          "female",
          "female",
          "male",
          "male",
          "female",
          "female",
          "female",
          "male",
          "male",
          "male",
          "female",
          "female",
          "female",
          "male",
          "male",
          "female",
          "male",
          "male",
          "male",
          "male",
          "male",
          "female",
          "male",
          "male",
          "male",
          "male",
          "male",
          "male",
          "male",
          "male",
          "female",
          "male",
          "female",
          "male",
          "male",
          "male",
          "female",
          "female",
          "female",
          "male",
          "male",
          "female",
          "female",
          "male",
          "female",
          "male",
          "male",
          "female",
          "female",
          "female",
          "female",
          "female",
          "female",
          "female",
          "male",
          "male",
          "male",
          "female",
          "male",
          "male",
          "male",
          "male",
          "female",
          "female",
          "male",
          "male",
          "female",
          "female",
          "male",
          "female",
          "female",
          "male",
          "male",
          "female",
          "male",
          "female",
          "male",
          "male",
          "female",
          "male",
          "female",
          "female",
          "female",
          "female",
          "male",
          "female",
          "male",
          "female",
          "female",
          "male",
          "female",
          "female",
          "male",
          "male",
          "male",
          "male",
          "female",
          "female",
          "male",
          "female",
          "male",
          "female",
          "female",
          "male",
          "female",
          "female",
          "female",
          "male",
          "female",
          "male",
          "male",
          "female",
          "female",
          "female",
          "female",
          "female",
          "female",
          "male",
          "male",
          "female",
          "male",
          "male",
          "female",
          "male",
          "female",
          "female",
          "male",
          "male",
          "female",
          "male",
          "female",
          "female",
          "female",
          "female",
          "male",
          "female",
          "female",
          "male",
          "female",
          "male",
          "male",
          "male",
          "female",
          "male",
          "male",
          "male",
          "male",
          "male",
          "female",
          "female",
          "female",
          "female",
          "male",
          "female",
          "male",
          "male",
          "male",
          "male",
          "male",
          "female",
          "male",
          "female",
          "male",
          "male",
          "male",
          "male",
          "male",
          "male",
          "female",
          "female",
          "female",
          "female",
          "male",
          "female",
          "male",
          "male",
          "male",
          "male",
          "female",
          "female",
          "female",
          "male",
          "female",
          "male",
          "female",
          "male",
          "female",
          "male",
          "male",
          "male",
          "female",
          "female",
          "male",
          "female",
          "female",
          "male",
          "female",
          "male",
          "female",
          "female",
          "female",
          "female",
          "female",
          "female",
          "male",
          "male",
          "female",
          "male",
          "male",
          "female",
          "male",
          "male",
          "female",
          "male",
          "male",
          "female",
          "male",
          "male",
          "female",
          "female",
          "female",
          "female",
          "female",
          "male",
          "female",
          "female",
          "female",
          "male",
          "female",
          "female",
          "male",
          "female",
          "female",
          "female",
          "male",
          "male",
          "male",
          "female",
          "male",
          "male",
          "male",
          "female",
          "female",
          "female",
          "female",
          "female",
          "female",
          "female",
          "male",
          "female",
          "male",
          "male",
          "male",
          "male",
          "male",
          "female",
          "female",
          "female",
          "female",
          "female",
          "male",
          "female",
          "male",
          "female",
          "male",
          "female",
          "male",
          "male",
          "male",
          "male",
          "female",
          "female",
          "female",
          "male",
          "female",
          "male",
          "female",
          "male",
          "male",
          "male",
          "female",
          "male",
          "male",
          "female",
          "female",
          "male",
          "female",
          "male",
          "female",
          "female",
          "male",
          "female",
          "male",
          "male",
          "female",
          "female",
          "male",
          "male",
          "male",
          "male",
          "female",
          "female",
          "female",
          "male",
          "male",
          "female",
          "female",
          "female",
          "female",
          "female",
          "female",
          "female",
          "female",
          "female",
          "female",
          "female",
          "female",
          "female",
          "male",
          "male",
          "male",
          "female",
          "female",
          "female",
          "male",
          "male",
          "female",
          "female",
          "female",
          "female",
          "female",
          "male",
          "male",
          "male",
          "female",
          "female",
          "female",
          "female",
          "male",
          "female",
          "male",
          "female",
          "female",
          "female",
          "female",
          "male",
          "male",
          "male",
          "female",
          "male",
          "male",
          "male",
          "female",
          "male",
          "male",
          "male",
          "male",
          "female",
          "male",
          "male",
          "female",
          "female",
          "male",
          "male",
          "female",
          "female",
          "male",
          "female",
          "male",
          "female",
          "female",
          "female",
          "male",
          "female",
          "female",
          "female",
          "female",
          "female",
          "male",
          "female",
          "female",
          "female",
          "female",
          "female",
          "male",
          "male",
          "female",
          "male",
          "male",
          "male",
          "female",
          "female",
          "male",
          "female",
          "female",
          "female",
          "male",
          "male",
          "female",
          "male",
          "female",
          "female",
          "female",
          "female",
          "female",
          "female",
          "male",
          "male",
          "female",
          "male",
          "male",
          "female",
          "male",
          "female",
          "male",
          "male",
          "male",
          "male",
          "female",
          "female",
          "female",
          "female",
          "female",
          "female",
          "female",
          "female",
          "female",
          "male",
          "female",
          "female",
          "male",
          "female",
          "female",
          "male",
          "male",
          "male",
          "male",
          "female",
          "male",
          "female",
          "female",
          "male",
          "female",
          "female",
          "male",
          "female",
          "female",
          "male",
          "female",
          "male",
          "female",
          "male",
          "male",
          "male",
          "female",
          "male",
          "female",
          "male",
          "female",
          "male",
          "female",
          "male",
          "female",
          "male",
          "male",
          "female",
          "male",
          "male",
          "male",
          "female",
          "female",
          "female",
          "male",
          "male",
          "male",
          "male",
          "female",
          "male",
          "male",
          "male",
          "male",
          "female",
          "male",
          "female",
          "male",
          "male",
          "female",
          "male",
          "female",
          "female",
          "male",
          "female",
          "male",
          "female",
          "female",
          "male",
          "female",
          "male",
          "male",
          "male",
          "female",
          "female",
          "male",
          "female",
          "female",
          "female",
          "female",
          "male",
          "female",
          "female",
          "female",
          "female",
          "male",
          "female",
          "female",
          "female",
          "male",
          "female",
          "female",
          "female",
          "male",
          "male",
          "female",
          "female",
          "male",
          "female",
          "male",
          "female",
          "male",
          "male",
          "female",
          "female",
          "female",
          "male",
          "female",
          "female",
          "male",
          "male",
          "male",
          "male",
          "female",
          "male",
          "female",
          "male",
          "female",
          "male",
          "female",
          "female",
          "female",
          "female",
          "male",
          "female",
          "female",
          "male",
          "female",
          "female",
          "female",
          "male",
          "female",
          "female",
          "male",
          "female",
          "male",
          "female",
          "male",
          "female",
          "male",
          "female",
          "female",
          "male",
          "female",
          "male",
          "female",
          "male",
          "male",
          "male",
          "female",
          "male",
          "male",
          "female",
          "female",
          "male",
          "male",
          "female",
          "male",
          "female",
          "male",
          "male",
          "female",
          "female",
          "male",
          "female",
          "male",
          "male",
          "male",
          "male",
          "male",
          "male",
          "male",
          "female",
          "male",
          "male",
          "female",
          "male",
          "male",
          "male",
          "female",
          "female",
          "male",
          "female",
          "female",
          "male",
          "female",
          "female",
          "female",
          "male",
          "female",
          "male",
          "female",
          "female",
          "female",
          "male",
          "female",
          "female",
          "male",
          "female",
          "male",
          "female",
          "male",
          "female",
          "female",
          "female",
          "female",
          "male",
          "male",
          "female",
          "female",
          "male",
          "male",
          "female",
          "female",
          "female",
          "female",
          "female",
          "male",
          "female",
          "female",
          "male",
          "male",
          "female",
          "male",
          "female",
          "male",
          "male",
          "male",
          "female",
          "male",
          "female",
          "male",
          "male",
          "male",
          "male",
          "male",
          "male",
          "male",
          "female",
          "male",
          "male",
          "male",
          "female",
          "male",
          "male",
          "female",
          "female",
          "male",
          "female",
          "male",
          "female",
          "male",
          "female",
          "female",
          "male",
          "female",
          "male",
          "male",
          "female",
          "female",
          "male",
          "female",
          "female",
          "female",
          "female",
          "male",
          "female",
          "male",
          "male",
          "female",
          "female",
          "female",
          "male",
          "female",
          "female",
          "female",
          "female",
          "male",
          "male",
          "male",
          "female",
          "female",
          "male",
          "male",
          "female",
          "female",
          "male",
          "female",
          "male",
          "female",
          "female",
          "male",
          "female",
          "female",
          "female",
          "male",
          "female",
          "male",
          "female",
          "female",
          "female"
         ],
         "legendgroup": "",
         "name": "",
         "showlegend": true,
         "type": "pie",
         "values": {
          "bdata": "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",
          "dtype": "i2"
         }
        }
       ],
       "layout": {
        "legend": {
         "tracegroupgap": 0
        },
        "margin": {
         "t": 60
        },
        "template": {
         "data": {
          "bar": [
           {
            "error_x": {
             "color": "#2a3f5f"
            },
            "error_y": {
             "color": "#2a3f5f"
            },
            "marker": {
             "line": {
              "color": "#E5ECF6",
              "width": 0.5
             },
             "pattern": {
              "fillmode": "overlay",
              "size": 10,
              "solidity": 0.2
             }
            },
            "type": "bar"
           }
          ],
          "barpolar": [
           {
            "marker": {
             "line": {
              "color": "#E5ECF6",
              "width": 0.5
             },
             "pattern": {
              "fillmode": "overlay",
              "size": 10,
              "solidity": 0.2
             }
            },
            "type": "barpolar"
           }
          ],
          "carpet": [
           {
            "aaxis": {
             "endlinecolor": "#2a3f5f",
             "gridcolor": "white",
             "linecolor": "white",
             "minorgridcolor": "white",
             "startlinecolor": "#2a3f5f"
            },
            "baxis": {
             "endlinecolor": "#2a3f5f",
             "gridcolor": "white",
             "linecolor": "white",
             "minorgridcolor": "white",
             "startlinecolor": "#2a3f5f"
            },
            "type": "carpet"
           }
          ],
          "choropleth": [
           {
            "colorbar": {
             "outlinewidth": 0,
             "ticks": ""
            },
            "type": "choropleth"
           }
          ],
          "contour": [
           {
            "colorbar": {
             "outlinewidth": 0,
             "ticks": ""
            },
            "colorscale": [
             [
              0,
              "#0d0887"
             ],
             [
              0.1111111111111111,
              "#46039f"
             ],
             [
              0.2222222222222222,
              "#7201a8"
             ],
             [
              0.3333333333333333,
              "#9c179e"
             ],
             [
              0.4444444444444444,
              "#bd3786"
             ],
             [
              0.5555555555555556,
              "#d8576b"
             ],
             [
              0.6666666666666666,
              "#ed7953"
             ],
             [
              0.7777777777777778,
              "#fb9f3a"
             ],
             [
              0.8888888888888888,
              "#fdca26"
             ],
             [
              1,
              "#f0f921"
             ]
            ],
            "type": "contour"
           }
          ],
          "contourcarpet": [
           {
            "colorbar": {
             "outlinewidth": 0,
             "ticks": ""
            },
            "type": "contourcarpet"
           }
          ],
          "heatmap": [
           {
            "colorbar": {
             "outlinewidth": 0,
             "ticks": ""
            },
            "colorscale": [
             [
              0,
              "#0d0887"
             ],
             [
              0.1111111111111111,
              "#46039f"
             ],
             [
              0.2222222222222222,
              "#7201a8"
             ],
             [
              0.3333333333333333,
              "#9c179e"
             ],
             [
              0.4444444444444444,
              "#bd3786"
             ],
             [
              0.5555555555555556,
              "#d8576b"
             ],
             [
              0.6666666666666666,
              "#ed7953"
             ],
             [
              0.7777777777777778,
              "#fb9f3a"
             ],
             [
              0.8888888888888888,
              "#fdca26"
             ],
             [
              1,
              "#f0f921"
             ]
            ],
            "type": "heatmap"
           }
          ],
          "histogram": [
           {
            "marker": {
             "pattern": {
              "fillmode": "overlay",
              "size": 10,
              "solidity": 0.2
             }
            },
            "type": "histogram"
           }
          ],
          "histogram2d": [
           {
            "colorbar": {
             "outlinewidth": 0,
             "ticks": ""
            },
            "colorscale": [
             [
              0,
              "#0d0887"
             ],
             [
              0.1111111111111111,
              "#46039f"
             ],
             [
              0.2222222222222222,
              "#7201a8"
             ],
             [
              0.3333333333333333,
              "#9c179e"
             ],
             [
              0.4444444444444444,
              "#bd3786"
             ],
             [
              0.5555555555555556,
              "#d8576b"
             ],
             [
              0.6666666666666666,
              "#ed7953"
             ],
             [
              0.7777777777777778,
              "#fb9f3a"
             ],
             [
              0.8888888888888888,
              "#fdca26"
             ],
             [
              1,
              "#f0f921"
             ]
            ],
            "type": "histogram2d"
           }
          ],
          "histogram2dcontour": [
           {
            "colorbar": {
             "outlinewidth": 0,
             "ticks": ""
            },
            "colorscale": [
             [
              0,
              "#0d0887"
             ],
             [
              0.1111111111111111,
              "#46039f"
             ],
             [
              0.2222222222222222,
              "#7201a8"
             ],
             [
              0.3333333333333333,
              "#9c179e"
             ],
             [
              0.4444444444444444,
              "#bd3786"
             ],
             [
              0.5555555555555556,
              "#d8576b"
             ],
             [
              0.6666666666666666,
              "#ed7953"
             ],
             [
              0.7777777777777778,
              "#fb9f3a"
             ],
             [
              0.8888888888888888,
              "#fdca26"
             ],
             [
              1,
              "#f0f921"
             ]
            ],
            "type": "histogram2dcontour"
           }
          ],
          "mesh3d": [
           {
            "colorbar": {
             "outlinewidth": 0,
             "ticks": ""
            },
            "type": "mesh3d"
           }
          ],
          "parcoords": [
           {
            "line": {
             "colorbar": {
              "outlinewidth": 0,
              "ticks": ""
             }
            },
            "type": "parcoords"
           }
          ],
          "pie": [
           {
            "automargin": true,
            "type": "pie"
           }
          ],
          "scatter": [
           {
            "fillpattern": {
             "fillmode": "overlay",
             "size": 10,
             "solidity": 0.2
            },
            "type": "scatter"
           }
          ],
          "scatter3d": [
           {
            "line": {
             "colorbar": {
              "outlinewidth": 0,
              "ticks": ""
             }
            },
            "marker": {
             "colorbar": {
              "outlinewidth": 0,
              "ticks": ""
             }
            },
            "type": "scatter3d"
           }
          ],
          "scattercarpet": [
           {
            "marker": {
             "colorbar": {
              "outlinewidth": 0,
              "ticks": ""
             }
            },
            "type": "scattercarpet"
           }
          ],
          "scattergeo": [
           {
            "marker": {
             "colorbar": {
              "outlinewidth": 0,
              "ticks": ""
             }
            },
            "type": "scattergeo"
           }
          ],
          "scattergl": [
           {
            "marker": {
             "colorbar": {
              "outlinewidth": 0,
              "ticks": ""
             }
            },
            "type": "scattergl"
           }
          ],
          "scattermap": [
           {
            "marker": {
             "colorbar": {
              "outlinewidth": 0,
              "ticks": ""
             }
            },
            "type": "scattermap"
           }
          ],
          "scattermapbox": [
           {
            "marker": {
             "colorbar": {
              "outlinewidth": 0,
              "ticks": ""
             }
            },
            "type": "scattermapbox"
           }
          ],
          "scatterpolar": [
           {
            "marker": {
             "colorbar": {
              "outlinewidth": 0,
              "ticks": ""
             }
            },
            "type": "scatterpolar"
           }
          ],
          "scatterpolargl": [
           {
            "marker": {
             "colorbar": {
              "outlinewidth": 0,
              "ticks": ""
             }
            },
            "type": "scatterpolargl"
           }
          ],
          "scatterternary": [
           {
            "marker": {
             "colorbar": {
              "outlinewidth": 0,
              "ticks": ""
             }
            },
            "type": "scatterternary"
           }
          ],
          "surface": [
           {
            "colorbar": {
             "outlinewidth": 0,
             "ticks": ""
            },
            "colorscale": [
             [
              0,
              "#0d0887"
             ],
             [
              0.1111111111111111,
              "#46039f"
             ],
             [
              0.2222222222222222,
              "#7201a8"
             ],
             [
              0.3333333333333333,
              "#9c179e"
             ],
             [
              0.4444444444444444,
              "#bd3786"
             ],
             [
              0.5555555555555556,
              "#d8576b"
             ],
             [
              0.6666666666666666,
              "#ed7953"
             ],
             [
              0.7777777777777778,
              "#fb9f3a"
             ],
             [
              0.8888888888888888,
              "#fdca26"
             ],
             [
              1,
              "#f0f921"
             ]
            ],
            "type": "surface"
           }
          ],
          "table": [
           {
            "cells": {
             "fill": {
              "color": "#EBF0F8"
             },
             "line": {
              "color": "white"
             }
            },
            "header": {
             "fill": {
              "color": "#C8D4E3"
             },
             "line": {
              "color": "white"
             }
            },
            "type": "table"
           }
          ]
         },
         "layout": {
          "annotationdefaults": {
           "arrowcolor": "#2a3f5f",
           "arrowhead": 0,
           "arrowwidth": 1
          },
          "autotypenumbers": "strict",
          "coloraxis": {
           "colorbar": {
            "outlinewidth": 0,
            "ticks": ""
           }
          },
          "colorscale": {
           "diverging": [
            [
             0,
             "#8e0152"
            ],
            [
             0.1,
             "#c51b7d"
            ],
            [
             0.2,
             "#de77ae"
            ],
            [
             0.3,
             "#f1b6da"
            ],
            [
             0.4,
             "#fde0ef"
            ],
            [
             0.5,
             "#f7f7f7"
            ],
            [
             0.6,
             "#e6f5d0"
            ],
            [
             0.7,
             "#b8e186"
            ],
            [
             0.8,
             "#7fbc41"
            ],
            [
             0.9,
             "#4d9221"
            ],
            [
             1,
             "#276419"
            ]
           ],
           "sequential": [
            [
             0,
             "#0d0887"
            ],
            [
             0.1111111111111111,
             "#46039f"
            ],
            [
             0.2222222222222222,
             "#7201a8"
            ],
            [
             0.3333333333333333,
             "#9c179e"
            ],
            [
             0.4444444444444444,
             "#bd3786"
            ],
            [
             0.5555555555555556,
             "#d8576b"
            ],
            [
             0.6666666666666666,
             "#ed7953"
            ],
            [
             0.7777777777777778,
             "#fb9f3a"
            ],
            [
             0.8888888888888888,
             "#fdca26"
            ],
            [
             1,
             "#f0f921"
            ]
           ],
           "sequentialminus": [
            [
             0,
             "#0d0887"
            ],
            [
             0.1111111111111111,
             "#46039f"
            ],
            [
             0.2222222222222222,
             "#7201a8"
            ],
            [
             0.3333333333333333,
             "#9c179e"
            ],
            [
             0.4444444444444444,
             "#bd3786"
            ],
            [
             0.5555555555555556,
             "#d8576b"
            ],
            [
             0.6666666666666666,
             "#ed7953"
            ],
            [
             0.7777777777777778,
             "#fb9f3a"
            ],
            [
             0.8888888888888888,
             "#fdca26"
            ],
            [
             1,
             "#f0f921"
            ]
           ]
          },
          "colorway": [
           "#636efa",
           "#EF553B",
           "#00cc96",
           "#ab63fa",
           "#FFA15A",
           "#19d3f3",
           "#FF6692",
           "#B6E880",
           "#FF97FF",
           "#FECB52"
          ],
          "font": {
           "color": "#2a3f5f"
          },
          "geo": {
           "bgcolor": "white",
           "lakecolor": "white",
           "landcolor": "#E5ECF6",
           "showlakes": true,
           "showland": true,
           "subunitcolor": "white"
          },
          "hoverlabel": {
           "align": "left"
          },
          "hovermode": "closest",
          "mapbox": {
           "style": "light"
          },
          "paper_bgcolor": "white",
          "plot_bgcolor": "#E5ECF6",
          "polar": {
           "angularaxis": {
            "gridcolor": "white",
            "linecolor": "white",
            "ticks": ""
           },
           "bgcolor": "#E5ECF6",
           "radialaxis": {
            "gridcolor": "white",
            "linecolor": "white",
            "ticks": ""
           }
          },
          "scene": {
           "xaxis": {
            "backgroundcolor": "#E5ECF6",
            "gridcolor": "white",
            "gridwidth": 2,
            "linecolor": "white",
            "showbackground": true,
            "ticks": "",
            "zerolinecolor": "white"
           },
           "yaxis": {
            "backgroundcolor": "#E5ECF6",
            "gridcolor": "white",
            "gridwidth": 2,
            "linecolor": "white",
            "showbackground": true,
            "ticks": "",
            "zerolinecolor": "white"
           },
           "zaxis": {
            "backgroundcolor": "#E5ECF6",
            "gridcolor": "white",
            "gridwidth": 2,
            "linecolor": "white",
            "showbackground": true,
            "ticks": "",
            "zerolinecolor": "white"
           }
          },
          "shapedefaults": {
           "line": {
            "color": "#2a3f5f"
           }
          },
          "ternary": {
           "aaxis": {
            "gridcolor": "white",
            "linecolor": "white",
            "ticks": ""
           },
           "baxis": {
            "gridcolor": "white",
            "linecolor": "white",
            "ticks": ""
           },
           "bgcolor": "#E5ECF6",
           "caxis": {
            "gridcolor": "white",
            "linecolor": "white",
            "ticks": ""
           }
          },
          "title": {
           "x": 0.05
          },
          "xaxis": {
           "automargin": true,
           "gridcolor": "white",
           "linecolor": "white",
           "ticks": "",
           "title": {
            "standoff": 15
           },
           "zerolinecolor": "white",
           "zerolinewidth": 2
          },
          "yaxis": {
           "automargin": true,
           "gridcolor": "white",
           "linecolor": "white",
           "ticks": "",
           "title": {
            "standoff": 15
           },
           "zerolinecolor": "white",
           "zerolinewidth": 2
          }
         }
        }
       }
      }
     },
     "metadata": {},
     "output_type": "display_data"
    }
   ],
   "source": [
    "\n",
    "figure = px.pie(hole=0.5,data_frame=df,values='total_marks',names = 'gender')\n",
    "figure.show()\n"
   ]
  },
  {
   "cell_type": "code",
   "execution_count": 11,
   "id": "50d14c67",
   "metadata": {},
   "outputs": [
    {
     "data": {
      "text/plain": [
       "<Axes: xlabel='average_score', ylabel='Count'>"
      ]
     },
     "execution_count": 11,
     "metadata": {},
     "output_type": "execute_result"
    },
    {
     "data": {
      "image/png": "[encoded data removed]",
      "text/plain": [
       "<Figure size 2000x1000 with 2 Axes>"
      ]
     },
     "metadata": {},
     "output_type": "display_data"
    }
   ],
   "source": [
    "fig,axs = plt.subplots(1,2,figsize=(20,10))\n",
    "plt.subplot(121)\n",
    "sns.histplot(data=df,x='average_score',kde=True,bins=25)\n",
    "plt.subplot(122)\n",
    "sns.histplot(data=df,x='average_score',hue='gender',kde=True)"
   ]
  },
  {
   "cell_type": "code",
   "execution_count": 12,
   "id": "a8746755",
   "metadata": {},
   "outputs": [
    {
     "data": {
      "text/plain": [
       "<Axes: >"
      ]
     },
     "execution_count": 12,
     "metadata": {},
     "output_type": "execute_result"
    },
    {
     "data": {
      "image/png": "[encoded data removed]",
      "text/plain": [
       "<Figure size 640x480 with 1 Axes>"
      ]
     },
     "metadata": {},
     "output_type": "display_data"
    }
   ],
   "source": [
    "sns.boxplot(df)"
   ]
  },
  {
   "cell_type": "code",
   "execution_count": 13,
   "id": "ae874e48",
   "metadata": {},
   "outputs": [
    {
     "name": "stdout",
     "output_type": "stream",
     "text": [
      "<class 'pandas.core.frame.DataFrame'>\n",
      "RangeIndex: 1000 entries, 0 to 999\n",
      "Data columns (total 10 columns):\n",
      " #   Column                       Non-Null Count  Dtype  \n",
      "---  ------                       --------------  -----  \n",
      " 0   gender                       1000 non-null   object \n",
      " 1   race/ethnicity               1000 non-null   object \n",
      " 2   parental level of education  1000 non-null   object \n",
      " 3   lunch                        1000 non-null   object \n",
      " 4   test preparation course      1000 non-null   object \n",
      " 5   math score                   1000 non-null   int64  \n",
      " 6   reading score                1000 non-null   int64  \n",
      " 7   writing score                1000 non-null   int64  \n",
      " 8   total_marks                  1000 non-null   int64  \n",
      " 9   average_score                1000 non-null   float64\n",
      "dtypes: float64(1), int64(4), object(5)\n",
      "memory usage: 78.2+ KB\n"
     ]
    }
   ],
   "source": [
    "df.info()"
   ]
  },
  {
   "cell_type": "code",
   "execution_count": 14,
   "id": "b311d6a5",
   "metadata": {},
   "outputs": [
    {
     "name": "stdout",
     "output_type": "stream",
     "text": [
      "gender : ['female' 'male']\n",
      "\n",
      "race/ethnicity : ['group B' 'group C' 'group A' 'group D' 'group E']\n",
      "\n",
      "parental level of education : [\"bachelor's degree\" 'some college' \"master's degree\" \"associate's degree\"\n",
      " 'high school' 'some high school']\n",
      "\n",
      "lunch : ['standard' 'free/reduced']\n",
      "\n",
      "test preparation course : ['none' 'completed']\n",
      "\n",
      "math score : [ 72  69  90  47  76  71  88  40  64  38  58  65  78  50  18  46  54  66\n",
      "  44  74  73  67  70  62  63  56  97  81  75  57  55  53  59  82  77  33\n",
      "  52   0  79  39  45  60  61  41  49  30  80  42  27  43  68  85  98  87\n",
      "  51  99  84  91  83  89  22 100  96  94  48  35  34  86  92  37  28  24\n",
      "  26  95  36  29  32  93  19  23   8]\n",
      "\n",
      "reading score : [ 72  90  95  57  78  83  43  64  60  54  52  81  53  75  89  32  42  58\n",
      "  69  73  71  74  70  65  87  56  61  84  55  44  41  85  59  17  39  80\n",
      "  37  63  51  49  26  68  45  47  86  34  79  66  67  91 100  76  77  82\n",
      "  92  93  62  88  50  28  48  46  23  38  94  97  99  31  96  24  29  40]\n",
      "\n",
      "writing score : [ 74  88  93  44  75  78  92  39  67  50  52  43  73  70  58  86  28  46\n",
      "  61  63  53  80  72  55  65  38  82  79  83  59  57  54  68  66  62  76\n",
      "  48  42  87  49  10  34  71  37  56  41  22  81  45  36  89  47  90 100\n",
      "  64  98  51  40  84  69  33  60  85  91  77  27  94  95  19  35  32  96\n",
      "  97  99  15  30  23]\n",
      "\n",
      "total_marks : [218 247 278 148 229 232 275 122 195 164 135 219 220 161 222 263  78 134\n",
      " 173 198 210 151 215 225 178 211 205 207 217 189 193 120 266 241 238 253\n",
      " 170 199 176 190 160 182 213 248 156 214 139 242 117 175  27 112 192 119\n",
      " 206 194 181 140 174 123 239 146 115 235 216  97 221 138 257 187 265 274\n",
      " 197 287 264 166 154 163 299 260 272 236 268 255 130 231 240 228 201 185\n",
      " 147  94 224 293 212 150 180 234 296 155 246 200 259 158 184 297 204 196\n",
      " 145 252 168 162 153 233 237 223 142  90 167 245 191 277 131 249 157 244\n",
      " 227 282 149 270 186 226 129 267 230 136 183 202 250 203  70 171 271 143\n",
      "  89 177 179  93 188 280 132 124 269 169 165 256 172 114 289 300 258 262\n",
      "  95 209 243 273 276 261 208 104 292 279 291  69  88 251 152 144 159 113\n",
      " 254 116 127 126 118 141 137 103 290 281 288  92 133  55]\n",
      "\n",
      "average_score : [ 72.66666667  82.33333333  92.66666667  49.33333333  76.33333333\n",
      "  77.33333333  91.66666667  40.66666667  65.          54.66666667\n",
      "  45.          73.          73.33333333  53.66666667  74.\n",
      "  87.66666667  26.          44.66666667  57.66666667  66.\n",
      "  70.          50.33333333  71.66666667  75.          59.33333333\n",
      "  70.33333333  68.33333333  69.          72.33333333  63.\n",
      "  64.33333333  40.          88.66666667  80.33333333  79.33333333\n",
      "  84.33333333  56.66666667  66.33333333  58.66666667  63.33333333\n",
      "  53.33333333  60.66666667  71.          82.66666667  52.\n",
      "  71.33333333  46.33333333  80.66666667  39.          58.33333333\n",
      "   9.          37.33333333  64.          39.66666667  68.66666667\n",
      "  64.66666667  60.33333333  46.66666667  58.          41.\n",
      "  79.66666667  48.66666667  38.33333333  78.33333333  72.\n",
      "  32.33333333  73.66666667  46.          85.66666667  62.33333333\n",
      "  88.33333333  91.33333333  65.66666667  95.66666667  88.\n",
      "  55.33333333  51.33333333  54.33333333  99.66666667  86.66666667\n",
      "  90.66666667  78.66666667  89.33333333  85.          43.33333333\n",
      "  77.          80.          76.          67.          61.66666667\n",
      "  49.          31.33333333  74.66666667  97.66666667  70.66666667\n",
      "  50.          60.          78.          98.66666667  51.66666667\n",
      "  82.          66.66666667  86.33333333  52.66666667  61.33333333\n",
      "  99.          68.          65.33333333  48.33333333  84.\n",
      "  56.          54.          51.          77.66666667  79.\n",
      "  74.33333333  47.33333333  30.          55.66666667  81.66666667\n",
      "  63.66666667  92.33333333  43.66666667  83.          52.33333333\n",
      "  81.33333333  75.66666667  94.          49.66666667  90.\n",
      "  62.          75.33333333  43.          89.          76.66666667\n",
      "  45.33333333  61.          67.33333333  83.33333333  67.66666667\n",
      "  23.33333333  57.          90.33333333  47.66666667  29.66666667\n",
      "  59.          59.66666667  31.          62.66666667  93.33333333\n",
      "  44.          41.33333333  89.66666667  56.33333333  55.\n",
      "  85.33333333  57.33333333  38.          96.33333333 100.\n",
      "  86.          87.33333333  31.66666667  69.66666667  81.\n",
      "  91.          92.          87.          69.33333333  34.66666667\n",
      "  97.33333333  93.          97.          23.          29.33333333\n",
      "  83.66666667  50.66666667  48.          53.          37.66666667\n",
      "  84.66666667  38.66666667  42.33333333  42.          39.33333333\n",
      "  47.          45.66666667  34.33333333  96.66666667  93.66666667\n",
      "  96.          30.66666667  44.33333333  18.33333333]\n",
      "\n"
     ]
    }
   ],
   "source": [
    "for col in df.columns:\n",
    "    print(f\"{col} : {df[col].unique()}\\n\")"
   ]
  },
  {
   "cell_type": "code",
   "execution_count": 15,
   "id": "c19b0580",
   "metadata": {},
   "outputs": [
    {
     "data": {
      "text/html": [
       "<div>\n",
       "<style scoped>\n",
       "    .dataframe tbody tr th:only-of-type {\n",
       "        vertical-align: middle;\n",
       "    }\n",
       "\n",
       "    .dataframe tbody tr th {\n",
       "        vertical-align: top;\n",
       "    }\n",
       "\n",
       "    .dataframe thead th {\n",
       "        text-align: right;\n",
       "    }\n",
       "</style>\n",
       "<table border=\"1\" class=\"dataframe\">\n",
       "  <thead>\n",
       "    <tr style=\"text-align: right;\">\n",
       "      <th></th>\n",
       "      <th>gender</th>\n",
       "      <th>race/ethnicity</th>\n",
       "      <th>parental level of education</th>\n",
       "      <th>lunch</th>\n",
       "      <th>test preparation course</th>\n",
       "      <th>math score</th>\n",
       "      <th>reading score</th>\n",
       "      <th>writing score</th>\n",
       "      <th>total_marks</th>\n",
       "      <th>average_score</th>\n",
       "    </tr>\n",
       "  </thead>\n",
       "  <tbody>\n",
       "    <tr>\n",
       "      <th>0</th>\n",
       "      <td>female</td>\n",
       "      <td>group B</td>\n",
       "      <td>bachelor's degree</td>\n",
       "      <td>standard</td>\n",
       "      <td>none</td>\n",
       "      <td>72</td>\n",
       "      <td>72</td>\n",
       "      <td>74</td>\n",
       "      <td>218</td>\n",
       "      <td>72.666667</td>\n",
       "    </tr>\n",
       "    <tr>\n",
       "      <th>1</th>\n",
       "      <td>female</td>\n",
       "      <td>group C</td>\n",
       "      <td>some college</td>\n",
       "      <td>standard</td>\n",
       "      <td>completed</td>\n",
       "      <td>69</td>\n",
       "      <td>90</td>\n",
       "      <td>88</td>\n",
       "      <td>247</td>\n",
       "      <td>82.333333</td>\n",
       "    </tr>\n",
       "    <tr>\n",
       "      <th>2</th>\n",
       "      <td>female</td>\n",
       "      <td>group B</td>\n",
       "      <td>master's degree</td>\n",
       "      <td>standard</td>\n",
       "      <td>none</td>\n",
       "      <td>90</td>\n",
       "      <td>95</td>\n",
       "      <td>93</td>\n",
       "      <td>278</td>\n",
       "      <td>92.666667</td>\n",
       "    </tr>\n",
       "    <tr>\n",
       "      <th>3</th>\n",
       "      <td>male</td>\n",
       "      <td>group A</td>\n",
       "      <td>associate's degree</td>\n",
       "      <td>free/reduced</td>\n",
       "      <td>none</td>\n",
       "      <td>47</td>\n",
       "      <td>57</td>\n",
       "      <td>44</td>\n",
       "      <td>148</td>\n",
       "      <td>49.333333</td>\n",
       "    </tr>\n",
       "    <tr>\n",
       "      <th>4</th>\n",
       "      <td>male</td>\n",
       "      <td>group C</td>\n",
       "      <td>some college</td>\n",
       "      <td>standard</td>\n",
       "      <td>none</td>\n",
       "      <td>76</td>\n",
       "      <td>78</td>\n",
       "      <td>75</td>\n",
       "      <td>229</td>\n",
       "      <td>76.333333</td>\n",
       "    </tr>\n",
       "    <tr>\n",
       "      <th>...</th>\n",
       "      <td>...</td>\n",
       "      <td>...</td>\n",
       "      <td>...</td>\n",
       "      <td>...</td>\n",
       "      <td>...</td>\n",
       "      <td>...</td>\n",
       "      <td>...</td>\n",
       "      <td>...</td>\n",
       "      <td>...</td>\n",
       "      <td>...</td>\n",
       "    </tr>\n",
       "    <tr>\n",
       "      <th>995</th>\n",
       "      <td>female</td>\n",
       "      <td>group E</td>\n",
       "      <td>master's degree</td>\n",
       "      <td>standard</td>\n",
       "      <td>completed</td>\n",
       "      <td>88</td>\n",
       "      <td>99</td>\n",
       "      <td>95</td>\n",
       "      <td>282</td>\n",
       "      <td>94.000000</td>\n",
       "    </tr>\n",
       "    <tr>\n",
       "      <th>996</th>\n",
       "      <td>male</td>\n",
       "      <td>group C</td>\n",
       "      <td>high school</td>\n",
       "      <td>free/reduced</td>\n",
       "      <td>none</td>\n",
       "      <td>62</td>\n",
       "      <td>55</td>\n",
       "      <td>55</td>\n",
       "      <td>172</td>\n",
       "      <td>57.333333</td>\n",
       "    </tr>\n",
       "    <tr>\n",
       "      <th>997</th>\n",
       "      <td>female</td>\n",
       "      <td>group C</td>\n",
       "      <td>high school</td>\n",
       "      <td>free/reduced</td>\n",
       "      <td>completed</td>\n",
       "      <td>59</td>\n",
       "      <td>71</td>\n",
       "      <td>65</td>\n",
       "      <td>195</td>\n",
       "      <td>65.000000</td>\n",
       "    </tr>\n",
       "    <tr>\n",
       "      <th>998</th>\n",
       "      <td>female</td>\n",
       "      <td>group D</td>\n",
       "      <td>some college</td>\n",
       "      <td>standard</td>\n",
       "      <td>completed</td>\n",
       "      <td>68</td>\n",
       "      <td>78</td>\n",
       "      <td>77</td>\n",
       "      <td>223</td>\n",
       "      <td>74.333333</td>\n",
       "    </tr>\n",
       "    <tr>\n",
       "      <th>999</th>\n",
       "      <td>female</td>\n",
       "      <td>group D</td>\n",
       "      <td>some college</td>\n",
       "      <td>free/reduced</td>\n",
       "      <td>none</td>\n",
       "      <td>77</td>\n",
       "      <td>86</td>\n",
       "      <td>86</td>\n",
       "      <td>249</td>\n",
       "      <td>83.000000</td>\n",
       "    </tr>\n",
       "  </tbody>\n",
       "</table>\n",
       "<p>1000 rows × 10 columns</p>\n",
       "</div>"
      ],
      "text/plain": [
       "     gender race/ethnicity parental level of education         lunch  \\\n",
       "0    female        group B           bachelor's degree      standard   \n",
       "1    female        group C                some college      standard   \n",
       "2    female        group B             master's degree      standard   \n",
       "3      male        group A          associate's degree  free/reduced   \n",
       "4      male        group C                some college      standard   \n",
       "..      ...            ...                         ...           ...   \n",
       "995  female        group E             master's degree      standard   \n",
       "996    male        group C                 high school  free/reduced   \n",
       "997  female        group C                 high school  free/reduced   \n",
       "998  female        group D                some college      standard   \n",
       "999  female        group D                some college  free/reduced   \n",
       "\n",
       "    test preparation course  math score  reading score  writing score  \\\n",
       "0                      none          72             72             74   \n",
       "1                 completed          69             90             88   \n",
       "2                      none          90             95             93   \n",
       "3                      none          47             57             44   \n",
       "4                      none          76             78             75   \n",
       "..                      ...         ...            ...            ...   \n",
       "995               completed          88             99             95   \n",
       "996                    none          62             55             55   \n",
       "997               completed          59             71             65   \n",
       "998               completed          68             78             77   \n",
       "999                    none          77             86             86   \n",
       "\n",
       "     total_marks  average_score  \n",
       "0            218      72.666667  \n",
       "1            247      82.333333  \n",
       "2            278      92.666667  \n",
       "3            148      49.333333  \n",
       "4            229      76.333333  \n",
       "..           ...            ...  \n",
       "995          282      94.000000  \n",
       "996          172      57.333333  \n",
       "997          195      65.000000  \n",
       "998          223      74.333333  \n",
       "999          249      83.000000  \n",
       "\n",
       "[1000 rows x 10 columns]"
      ]
     },
     "execution_count": 15,
     "metadata": {},
     "output_type": "execute_result"
    }
   ],
   "source": [
    "df"
   ]
  },
  {
   "cell_type": "code",
   "execution_count": 16,
   "id": "33d30c6b",
   "metadata": {},
   "outputs": [
    {
     "data": {
      "text/plain": [
       "['gender',\n",
       " 'race/ethnicity',\n",
       " 'parental level of education',\n",
       " 'lunch',\n",
       " 'test preparation course']"
      ]
     },
     "execution_count": 16,
     "metadata": {},
     "output_type": "execute_result"
    }
   ],
   "source": [
    "df.select_dtypes(include='object').columns.to_list()"
   ]
  },
  {
   "cell_type": "code",
   "execution_count": 17,
   "id": "2ca075c7",
   "metadata": {},
   "outputs": [
    {
     "name": "stdout",
     "output_type": "stream",
     "text": [
      "<class 'pandas.core.frame.DataFrame'>\n",
      "RangeIndex: 1000 entries, 0 to 999\n",
      "Data columns (total 10 columns):\n",
      " #   Column                       Non-Null Count  Dtype  \n",
      "---  ------                       --------------  -----  \n",
      " 0   gender                       1000 non-null   object \n",
      " 1   race/ethnicity               1000 non-null   object \n",
      " 2   parental level of education  1000 non-null   object \n",
      " 3   lunch                        1000 non-null   object \n",
      " 4   test preparation course      1000 non-null   object \n",
      " 5   math score                   1000 non-null   int64  \n",
      " 6   reading score                1000 non-null   int64  \n",
      " 7   writing score                1000 non-null   int64  \n",
      " 8   total_marks                  1000 non-null   int64  \n",
      " 9   average_score                1000 non-null   float64\n",
      "dtypes: float64(1), int64(4), object(5)\n",
      "memory usage: 78.2+ KB\n"
     ]
    }
   ],
   "source": [
    "df.info()"
   ]
  },
  {
   "cell_type": "code",
   "execution_count": 18,
   "id": "c3ade2e1",
   "metadata": {},
   "outputs": [],
   "source": [
    "df.to_csv(\"EDA_StudentPerformance.csv\",index=False)"
   ]
  }
 ],
 "metadata": {
  "kernelspec": {
   "display_name": "Python 3",
   "language": "python",
   "name": "python3"
  },
  "language_info": {
   "codemirror_mode": {
    "name": "ipython",
    "version": 3
   },
   "file_extension": ".py",
   "mimetype": "text/x-python",
   "name": "python",
   "nbconvert_exporter": "python",
   "pygments_lexer": "ipython3",
   "version": "3.8.20"
  }
 },
 "nbformat": 4,
 "nbformat_minor": 5
}
